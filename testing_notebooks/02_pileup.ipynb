{
 "cells": [
  {
   "cell_type": "code",
   "execution_count": 1,
   "id": "dbf5d293",
   "metadata": {},
   "outputs": [],
   "source": [
    "%load_ext autoreload\n",
    "%autoreload 2\n",
    "%matplotlib nbagg\n",
    "\n",
    "# general package imports\n",
    "import numpy as np\n",
    "import matplotlib.pyplot as plt\n",
    "import h5py\n",
    "from scipy.signal import find_peaks, peak_prominences\n",
    "from scipy.optimize import curve_fit\n",
    "from scipy.stats import linregress\n",
    "# from spectrum import gaussian\n",
    "import pandas as pd\n",
    "\n",
    "# import tool repo\n",
    "import sys\n",
    "\n",
    "# UPDATE PATH TO PATH WHERE YOU HAVE REPO SAVED\n",
    "sys.path.append('/Users/kalie/courses/ne204/lab/kalieknecht_lab2')\n",
    "from tools import find_activity, import_data, subtract_baseline\n",
    "from filters import fit_tau, fit_taus, JordanovFilter, BogovacFilter, CooperFilter\n",
    "from spectrum import spectrum, gaussian\n",
    "from pulse_shape import find_rise_time"
   ]
  },
  {
   "cell_type": "code",
   "execution_count": 3,
   "id": "3fe529a9",
   "metadata": {},
   "outputs": [
    {
     "name": "stdout",
     "output_type": "stream",
     "text": [
      "cs far\n",
      "152057 events\n"
     ]
    }
   ],
   "source": [
    "# import data \n",
    "print('cs far')\n",
    "f_name = '../data/cs.h5'\n",
    "f_data = h5py.File(f_name,'r')\n",
    "cs = f_data['raw_data'][()]\n",
    "cs_events = f_data['event_data'][()]\n",
    "print(str(cs.shape[0])+' events')"
   ]
  },
  {
   "cell_type": "code",
   "execution_count": 4,
   "id": "bceddd2b",
   "metadata": {},
   "outputs": [],
   "source": [
    "# convert waveform time scale to nanoseconds\n",
    "wave_times = np.linspace(0,1/(250*10**6)*50000*10**9,50000)"
   ]
  },
  {
   "cell_type": "code",
   "execution_count": 6,
   "id": "c94ce944",
   "metadata": {},
   "outputs": [
    {
     "name": "stdout",
     "output_type": "stream",
     "text": [
      "15206\n"
     ]
    }
   ],
   "source": [
    "# downsample data so filters can handle it\n",
    "# maybe your computer is better than mine and you can remove the downsampling\n",
    "cs_down = cs[::10]\n",
    "print(len(cs_down))"
   ]
  },
  {
   "cell_type": "code",
   "execution_count": 7,
   "id": "bd8858e9",
   "metadata": {},
   "outputs": [
    {
     "name": "stdout",
     "output_type": "stream",
     "text": [
      "Filter parameters:\n",
      "tau = 4.3869703144020734e-05\n",
      "peaking time =  4.0000000000000003e-07\n",
      "gap time =  2.0000000000000003e-06\n"
     ]
    }
   ],
   "source": [
    "# Use same filter parameters as lab 1\n",
    "tau = 10967.425786005182\n",
    "tau = tau * 4 * 10**(-9)\n",
    "peaking_time = 100 * 4 * 10**(-9)\n",
    "gap_time = peaking_time * 5  \n",
    "\n",
    "print('Filter parameters:')\n",
    "print('tau =',tau)\n",
    "print('peaking time = ', peaking_time)\n",
    "print('gap time = ', gap_time)"
   ]
  },
  {
   "cell_type": "code",
   "execution_count": 9,
   "id": "95b68e3d",
   "metadata": {},
   "outputs": [
    {
     "ename": "KeyboardInterrupt",
     "evalue": "",
     "output_type": "error",
     "traceback": [
      "\u001b[0;31m---------------------------------------------------------------------------\u001b[0m",
      "\u001b[0;31mKeyboardInterrupt\u001b[0m                         Traceback (most recent call last)",
      "Input \u001b[0;32mIn [9]\u001b[0m, in \u001b[0;36m<cell line: 1>\u001b[0;34m()\u001b[0m\n\u001b[0;32m----> 1\u001b[0m filtered_cs \u001b[38;5;241m=\u001b[39m \u001b[43mCooper_filter\u001b[49m\u001b[38;5;241;43m.\u001b[39;49m\u001b[43mfilter_waveform\u001b[49m\u001b[43m(\u001b[49m\u001b[43mcs_down\u001b[49m\u001b[43m,\u001b[49m\u001b[43mnormalize\u001b[49m\u001b[38;5;241;43m=\u001b[39;49m\u001b[38;5;28;43;01mTrue\u001b[39;49;00m\u001b[43m)\u001b[49m\n",
      "File \u001b[0;32m~/courses/ne204/lab/kalieknecht_lab2/filters.py:159\u001b[0m, in \u001b[0;36mCooperFilter.filter_waveform\u001b[0;34m(self, raw_data, sampling_interval, normalize)\u001b[0m\n\u001b[1;32m    157\u001b[0m \u001b[38;5;28mself\u001b[39m\u001b[38;5;241m.\u001b[39mM \u001b[38;5;241m=\u001b[39m \u001b[38;5;28mint\u001b[39m(\u001b[38;5;28mself\u001b[39m\u001b[38;5;241m.\u001b[39mdecay_time \u001b[38;5;241m/\u001b[39m sampling_interval)\n\u001b[1;32m    158\u001b[0m Tr_prime \u001b[38;5;241m=\u001b[39m \u001b[38;5;28mself\u001b[39m\u001b[38;5;241m.\u001b[39mget_Tr_prime_batch(raw_data, normalize\u001b[38;5;241m=\u001b[39m\u001b[38;5;28;01mTrue\u001b[39;00m)\n\u001b[0;32m--> 159\u001b[0m d_kl \u001b[38;5;241m=\u001b[39m \u001b[38;5;28;43mself\u001b[39;49m\u001b[38;5;241;43m.\u001b[39;49m\u001b[43mget_d_kl_batch\u001b[49m\u001b[43m(\u001b[49m\u001b[43mTr_prime\u001b[49m\u001b[43m,\u001b[49m\u001b[43m \u001b[49m\u001b[43mnormalize\u001b[49m\u001b[38;5;241;43m=\u001b[39;49m\u001b[38;5;28;43;01mFalse\u001b[39;49;00m\u001b[43m)\u001b[49m\n\u001b[1;32m    160\u001b[0m \u001b[38;5;28;01mreturn\u001b[39;00m np\u001b[38;5;241m.\u001b[39mcumsum(d_kl, axis\u001b[38;5;241m=\u001b[39m\u001b[38;5;241m1\u001b[39m)\n",
      "File \u001b[0;32m~/courses/ne204/lab/kalieknecht_lab2/filters.py:187\u001b[0m, in \u001b[0;36mCooperFilter.get_d_kl_batch\u001b[0;34m(self, tr_prime, pretrigger_idx, normalize)\u001b[0m\n\u001b[1;32m    185\u001b[0m \u001b[38;5;66;03m# padding v by k+l with the noise mean\u001b[39;00m\n\u001b[1;32m    186\u001b[0m noise_mean \u001b[38;5;241m=\u001b[39m v[:, :pretrigger_idx]\u001b[38;5;241m.\u001b[39mmean()\n\u001b[0;32m--> 187\u001b[0m v_padded \u001b[38;5;241m=\u001b[39m \u001b[43mnp\u001b[49m\u001b[38;5;241;43m.\u001b[39;49m\u001b[43mpad\u001b[49m\u001b[43m(\u001b[49m\n\u001b[1;32m    188\u001b[0m \u001b[43m    \u001b[49m\u001b[43mv\u001b[49m\u001b[43m,\u001b[49m\n\u001b[1;32m    189\u001b[0m \u001b[43m    \u001b[49m\u001b[43m(\u001b[49m\u001b[43m(\u001b[49m\u001b[38;5;241;43m0\u001b[39;49m\u001b[43m,\u001b[49m\u001b[43m \u001b[49m\u001b[38;5;241;43m0\u001b[39;49m\u001b[43m)\u001b[49m\u001b[43m,\u001b[49m\u001b[43m \u001b[49m\u001b[43m(\u001b[49m\u001b[38;5;28;43mself\u001b[39;49m\u001b[38;5;241;43m.\u001b[39;49m\u001b[43mk\u001b[49m\u001b[43m \u001b[49m\u001b[38;5;241;43m+\u001b[39;49m\u001b[43m \u001b[49m\u001b[38;5;28;43mself\u001b[39;49m\u001b[38;5;241;43m.\u001b[39;49m\u001b[43ml\u001b[49m\u001b[43m,\u001b[49m\u001b[43m \u001b[49m\u001b[38;5;241;43m0\u001b[39;49m\u001b[43m)\u001b[49m\u001b[43m)\u001b[49m\u001b[43m,\u001b[49m\n\u001b[1;32m    190\u001b[0m \u001b[43m    \u001b[49m\u001b[43mmode\u001b[49m\u001b[38;5;241;43m=\u001b[39;49m\u001b[38;5;124;43m\"\u001b[39;49m\u001b[38;5;124;43mconstant\u001b[39;49m\u001b[38;5;124;43m\"\u001b[39;49m\u001b[43m,\u001b[49m\n\u001b[1;32m    191\u001b[0m \u001b[43m    \u001b[49m\u001b[43mconstant_values\u001b[49m\u001b[38;5;241;43m=\u001b[39;49m\u001b[43m(\u001b[49m\u001b[43mnoise_mean\u001b[49m\u001b[43m)\u001b[49m\u001b[43m)\u001b[49m\n\u001b[1;32m    192\u001b[0m d_kl \u001b[38;5;241m=\u001b[39m (\n\u001b[1;32m    193\u001b[0m     v_padded[:, \u001b[38;5;28mself\u001b[39m\u001b[38;5;241m.\u001b[39mk \u001b[38;5;241m+\u001b[39m \u001b[38;5;28mself\u001b[39m\u001b[38;5;241m.\u001b[39ml :]\n\u001b[1;32m    194\u001b[0m     \u001b[38;5;241m-\u001b[39m v_padded[:, \u001b[38;5;28mself\u001b[39m\u001b[38;5;241m.\u001b[39ml : \u001b[38;5;241m-\u001b[39m\u001b[38;5;28mself\u001b[39m\u001b[38;5;241m.\u001b[39mk]\n\u001b[1;32m    195\u001b[0m     \u001b[38;5;241m-\u001b[39m v_padded[:, \u001b[38;5;28mself\u001b[39m\u001b[38;5;241m.\u001b[39mk : \u001b[38;5;241m-\u001b[39m\u001b[38;5;28mself\u001b[39m\u001b[38;5;241m.\u001b[39ml]\n\u001b[1;32m    196\u001b[0m     \u001b[38;5;241m+\u001b[39m v_padded[:, : \u001b[38;5;241m-\u001b[39m(\u001b[38;5;28mself\u001b[39m\u001b[38;5;241m.\u001b[39mk \u001b[38;5;241m+\u001b[39m \u001b[38;5;28mself\u001b[39m\u001b[38;5;241m.\u001b[39ml)])\n\u001b[1;32m    197\u001b[0m \u001b[38;5;28;01massert\u001b[39;00m v\u001b[38;5;241m.\u001b[39mshape \u001b[38;5;241m==\u001b[39m d_kl\u001b[38;5;241m.\u001b[39mshape\n",
      "File \u001b[0;32m<__array_function__ internals>:180\u001b[0m, in \u001b[0;36mpad\u001b[0;34m(*args, **kwargs)\u001b[0m\n",
      "File \u001b[0;32m~/opt/anaconda3/envs/radkit/lib/python3.8/site-packages/numpy/lib/arraypad.py:793\u001b[0m, in \u001b[0;36mpad\u001b[0;34m(array, pad_width, mode, **kwargs)\u001b[0m\n\u001b[1;32m    788\u001b[0m stat_functions \u001b[38;5;241m=\u001b[39m {\u001b[38;5;124m\"\u001b[39m\u001b[38;5;124mmaximum\u001b[39m\u001b[38;5;124m\"\u001b[39m: np\u001b[38;5;241m.\u001b[39mamax, \u001b[38;5;124m\"\u001b[39m\u001b[38;5;124mminimum\u001b[39m\u001b[38;5;124m\"\u001b[39m: np\u001b[38;5;241m.\u001b[39mamin,\n\u001b[1;32m    789\u001b[0m                   \u001b[38;5;124m\"\u001b[39m\u001b[38;5;124mmean\u001b[39m\u001b[38;5;124m\"\u001b[39m: np\u001b[38;5;241m.\u001b[39mmean, \u001b[38;5;124m\"\u001b[39m\u001b[38;5;124mmedian\u001b[39m\u001b[38;5;124m\"\u001b[39m: np\u001b[38;5;241m.\u001b[39mmedian}\n\u001b[1;32m    791\u001b[0m \u001b[38;5;66;03m# Create array with final shape and original values\u001b[39;00m\n\u001b[1;32m    792\u001b[0m \u001b[38;5;66;03m# (padded area is undefined)\u001b[39;00m\n\u001b[0;32m--> 793\u001b[0m padded, original_area_slice \u001b[38;5;241m=\u001b[39m \u001b[43m_pad_simple\u001b[49m\u001b[43m(\u001b[49m\u001b[43marray\u001b[49m\u001b[43m,\u001b[49m\u001b[43m \u001b[49m\u001b[43mpad_width\u001b[49m\u001b[43m)\u001b[49m\n\u001b[1;32m    794\u001b[0m \u001b[38;5;66;03m# And prepare iteration over all dimensions\u001b[39;00m\n\u001b[1;32m    795\u001b[0m \u001b[38;5;66;03m# (zipping may be more readable than using enumerate)\u001b[39;00m\n\u001b[1;32m    796\u001b[0m axes \u001b[38;5;241m=\u001b[39m \u001b[38;5;28mrange\u001b[39m(padded\u001b[38;5;241m.\u001b[39mndim)\n",
      "File \u001b[0;32m~/opt/anaconda3/envs/radkit/lib/python3.8/site-packages/numpy/lib/arraypad.py:124\u001b[0m, in \u001b[0;36m_pad_simple\u001b[0;34m(array, pad_width, fill_value)\u001b[0m\n\u001b[1;32m    119\u001b[0m \u001b[38;5;66;03m# Copy old array into correct space\u001b[39;00m\n\u001b[1;32m    120\u001b[0m original_area_slice \u001b[38;5;241m=\u001b[39m \u001b[38;5;28mtuple\u001b[39m(\n\u001b[1;32m    121\u001b[0m     \u001b[38;5;28mslice\u001b[39m(left, left \u001b[38;5;241m+\u001b[39m size)\n\u001b[1;32m    122\u001b[0m     \u001b[38;5;28;01mfor\u001b[39;00m size, (left, right) \u001b[38;5;129;01min\u001b[39;00m \u001b[38;5;28mzip\u001b[39m(array\u001b[38;5;241m.\u001b[39mshape, pad_width)\n\u001b[1;32m    123\u001b[0m )\n\u001b[0;32m--> 124\u001b[0m padded[original_area_slice] \u001b[38;5;241m=\u001b[39m array\n\u001b[1;32m    126\u001b[0m \u001b[38;5;28;01mreturn\u001b[39;00m padded, original_area_slice\n",
      "\u001b[0;31mKeyboardInterrupt\u001b[0m: "
     ]
    }
   ],
   "source": [
    "Cooper_filter = CooperFilter(peaking_time, gap_time, tau)\n",
    "filtered_cs = Cooper_filter.filter_waveform(cs_down,normalize=True)"
   ]
  },
  {
   "cell_type": "code",
   "execution_count": null,
   "id": "f180be93",
   "metadata": {},
   "outputs": [],
   "source": [
    "pulse_num = 10\n",
    "plt.figure()\n",
    "plt.plot(wave_times,cs_down[pulse_num])\n",
    "plt.ylabel('Magnitude (ADC Units)')\n",
    "plt.xlabel('Measurement Time (ns)')\n",
    "#plt.title('Raw Waveform')\n",
    "# plt.savefig('figs/example_pulse_raw.png')\n",
    "plt.show()"
   ]
  }
 ],
 "metadata": {
  "kernelspec": {
   "display_name": "Python 3 (ipykernel)",
   "language": "python",
   "name": "python3"
  },
  "language_info": {
   "codemirror_mode": {
    "name": "ipython",
    "version": 3
   },
   "file_extension": ".py",
   "mimetype": "text/x-python",
   "name": "python",
   "nbconvert_exporter": "python",
   "pygments_lexer": "ipython3",
   "version": "3.8.13"
  }
 },
 "nbformat": 4,
 "nbformat_minor": 5
}
